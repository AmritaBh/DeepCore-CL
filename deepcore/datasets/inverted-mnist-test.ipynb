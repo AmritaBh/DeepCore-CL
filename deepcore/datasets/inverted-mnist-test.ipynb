{
 "cells": [
  {
   "cell_type": "markdown",
   "id": "d954e152",
   "metadata": {},
   "source": [
    "Helpful link for the invert transform: https://discuss.pytorch.org/t/negative-of-an-image-using-pytorch-transforms/87059/6"
   ]
  },
  {
   "cell_type": "code",
   "execution_count": 1,
   "id": "677a677d",
   "metadata": {},
   "outputs": [],
   "source": [
    "import matplotlib.pyplot as plt"
   ]
  },
  {
   "cell_type": "code",
   "execution_count": 2,
   "id": "c3e73700",
   "metadata": {},
   "outputs": [
    {
     "name": "stderr",
     "output_type": "stream",
     "text": [
      "/home/amriita/.local/lib/python3.7/site-packages/tqdm/auto.py:22: TqdmWarning: IProgress not found. Please update jupyter and ipywidgets. See https://ipywidgets.readthedocs.io/en/stable/user_install.html\n",
      "  from .autonotebook import tqdm as notebook_tqdm\n"
     ]
    }
   ],
   "source": [
    "from torchvision import datasets, transforms\n",
    "import numpy as np\n",
    "\n",
    "\n",
    "def x_invert(x):\n",
    "    return transforms.functional.invert(x)\n",
    "\n",
    "def IMNIST(data_path, permuted=False, permutation_seed=None):\n",
    "    channel = 1\n",
    "    im_size = (28, 28)\n",
    "    num_classes = 10\n",
    "    mean = [0.869]\n",
    "    std = [0.3084]\n",
    "    \n",
    "#     x_invert = lambda x: transforms.functional.invert(x)\n",
    "    transform = transforms.Compose([transforms.ToTensor(), \\\n",
    "                                    transforms.Lambda(x_invert),\\\n",
    "                                    transforms.Normalize(mean=mean, std=std)])\n",
    "    if permuted:\n",
    "        np.random.seed(permutation_seed)\n",
    "        pixel_permutation = np.random.permutation(28 * 28)\n",
    "        transform = transforms.Compose(\n",
    "            [transform, transforms.Lambda(lambda x: x.view(-1, 1)[pixel_permutation].view(1, 28, 28))])\n",
    "\n",
    "    dst_train = datasets.MNIST(data_path, train=True, download=True, transform=transform)\n",
    "    dst_test = datasets.MNIST(data_path, train=False, download=True, transform=transform)\n",
    "    class_names = [str(c) for c in range(num_classes)]\n",
    "    return channel, im_size, num_classes, class_names, mean, std, dst_train, dst_test\n",
    "\n",
    "\n",
    "def permutedIMNIST(data_path, permutation_seed=None):\n",
    "    return IMNIST(data_path, True, permutation_seed)\n"
   ]
  },
  {
   "cell_type": "code",
   "execution_count": 3,
   "id": "541afc88",
   "metadata": {},
   "outputs": [
    {
     "data": {
      "text/plain": [
       "(1,\n",
       " (28, 28),\n",
       " 10,\n",
       " ['0', '1', '2', '3', '4', '5', '6', '7', '8', '9'],\n",
       " [0.869],\n",
       " [0.3084],\n",
       " Dataset MNIST\n",
       "     Number of datapoints: 60000\n",
       "     Root location: /home/amriita/datasets/\n",
       "     Split: Train\n",
       "     StandardTransform\n",
       " Transform: Compose(\n",
       "                ToTensor()\n",
       "                Lambda()\n",
       "                Normalize(mean=[0.869], std=[0.3084])\n",
       "            ),\n",
       " Dataset MNIST\n",
       "     Number of datapoints: 10000\n",
       "     Root location: /home/amriita/datasets/\n",
       "     Split: Test\n",
       "     StandardTransform\n",
       " Transform: Compose(\n",
       "                ToTensor()\n",
       "                Lambda()\n",
       "                Normalize(mean=[0.869], std=[0.3084])\n",
       "            ))"
      ]
     },
     "execution_count": 3,
     "metadata": {},
     "output_type": "execute_result"
    }
   ],
   "source": [
    "data_path = \"~/datasets/\"\n",
    "IMNIST(data_path)"
   ]
  },
  {
   "cell_type": "code",
   "execution_count": 4,
   "id": "19000c9f",
   "metadata": {},
   "outputs": [],
   "source": [
    "_, _, _, _, _, _, train, test = IMNIST(data_path)"
   ]
  },
  {
   "cell_type": "code",
   "execution_count": 5,
   "id": "66da6f41",
   "metadata": {},
   "outputs": [
    {
     "data": {
      "text/plain": [
       "60000"
      ]
     },
     "execution_count": 5,
     "metadata": {},
     "output_type": "execute_result"
    }
   ],
   "source": [
    "len(train)"
   ]
  },
  {
   "cell_type": "code",
   "execution_count": 6,
   "id": "6229499e",
   "metadata": {},
   "outputs": [],
   "source": [
    "images, labels = next(iter(train))"
   ]
  },
  {
   "cell_type": "code",
   "execution_count": 7,
   "id": "b6215f11",
   "metadata": {},
   "outputs": [
    {
     "data": {
      "text/plain": [
       "torch.Size([1, 28, 28])"
      ]
     },
     "execution_count": 7,
     "metadata": {},
     "output_type": "execute_result"
    }
   ],
   "source": [
    "images.shape"
   ]
  },
  {
   "cell_type": "code",
   "execution_count": 8,
   "id": "33d094bb",
   "metadata": {},
   "outputs": [
    {
     "data": {
      "text/plain": [
       "<matplotlib.image.AxesImage at 0x7f71194aba90>"
      ]
     },
     "execution_count": 8,
     "metadata": {},
     "output_type": "execute_result"
    },
    {
     "data": {
      "image/png": "[encoded data removed]",
      "text/plain": [
       "<Figure size 432x288 with 1 Axes>"
      ]
     },
     "metadata": {
      "needs_background": "light"
     },
     "output_type": "display_data"
    }
   ],
   "source": [
    "plt.imshow(images[0].reshape(28,28), cmap=\"gray\")"
   ]
  },
  {
   "cell_type": "code",
   "execution_count": 9,
   "id": "16597b8f",
   "metadata": {},
   "outputs": [],
   "source": [
    "from torchvision import datasets, transforms\n",
    "import numpy as np\n",
    "\n",
    "\n",
    "def MNIST(data_path, permuted=False, permutation_seed=None):\n",
    "    channel = 1\n",
    "    im_size = (28, 28)\n",
    "    num_classes = 10\n",
    "    mean = [0.1307]\n",
    "    std = [0.3081]\n",
    "    transform = transforms.Compose([transforms.ToTensor(), transforms.Normalize(mean=mean, std=std)])\n",
    "    if permuted:\n",
    "        np.random.seed(permutation_seed)\n",
    "        pixel_permutation = np.random.permutation(28 * 28)\n",
    "        transform = transforms.Compose(\n",
    "            [transform, transforms.Lambda(lambda x: x.view(-1, 1)[pixel_permutation].view(1, 28, 28))])\n",
    "\n",
    "    dst_train = datasets.MNIST(data_path, train=True, download=True, transform=transform)\n",
    "    dst_test = datasets.MNIST(data_path, train=False, download=True, transform=transform)\n",
    "    class_names = [str(c) for c in range(num_classes)]\n",
    "    return channel, im_size, num_classes, class_names, mean, std, dst_train, dst_test\n",
    "\n",
    "\n",
    "def permutedMNIST(data_path, permutation_seed=None):\n",
    "    return MNIST(data_path, True, permutation_seed)\n"
   ]
  },
  {
   "cell_type": "code",
   "execution_count": 10,
   "id": "fef39863",
   "metadata": {},
   "outputs": [],
   "source": [
    "_, _, _, _, _, _, otrain, otest = MNIST(data_path)"
   ]
  },
  {
   "cell_type": "code",
   "execution_count": 11,
   "id": "f53ba2f5",
   "metadata": {},
   "outputs": [],
   "source": [
    "images, labels = next(iter(otrain))"
   ]
  },
  {
   "cell_type": "code",
   "execution_count": 12,
   "id": "884266a1",
   "metadata": {},
   "outputs": [
    {
     "data": {
      "text/plain": [
       "<matplotlib.image.AxesImage at 0x7f71193bb650>"
      ]
     },
     "execution_count": 12,
     "metadata": {},
     "output_type": "execute_result"
    },
    {
     "data": {
      "image/png": "[encoded data removed]",
      "text/plain": [
       "<Figure size 432x288 with 1 Axes>"
      ]
     },
     "metadata": {
      "needs_background": "light"
     },
     "output_type": "display_data"
    }
   ],
   "source": [
    "plt.imshow(images[0].reshape(28,28), cmap=\"gray\")"
   ]
  },
  {
   "cell_type": "code",
   "execution_count": 13,
   "id": "ff062b1e",
   "metadata": {},
   "outputs": [],
   "source": [
    "import pickle\n",
    "import dill"
   ]
  },
  {
   "cell_type": "code",
   "execution_count": 19,
   "id": "5a209fe0",
   "metadata": {},
   "outputs": [],
   "source": [
    "class DillPickle:\n",
    "    def __init__(self, e):\n",
    "        self.e = e\n",
    "    def __getstate__(self):\n",
    "        return dill.dumps(self.e)\n",
    "    def __setstate__(self, state):\n",
    "        self.e = dill.loads(state)"
   ]
  },
  {
   "cell_type": "code",
   "execution_count": null,
   "id": "e75f0502",
   "metadata": {},
   "outputs": [],
   "source": []
  },
  {
   "cell_type": "code",
   "execution_count": 14,
   "id": "20679dc8",
   "metadata": {},
   "outputs": [],
   "source": [
    "pickle.dumps(IMNIST(data_path))"
   ]
  },
  {
   "cell_type": "code",
   "execution_count": null,
   "id": "c8d9896c",
   "metadata": {},
   "outputs": [],
   "source": []
  }
 ],
 "metadata": {
  "kernelspec": {
   "display_name": "Python 3 (ipykernel)",
   "language": "python",
   "name": "python3"
  },
  "language_info": {
   "codemirror_mode": {
    "name": "ipython",
    "version": 3
   },
   "file_extension": ".py",
   "mimetype": "text/x-python",
   "name": "python",
   "nbconvert_exporter": "python",
   "pygments_lexer": "ipython3",
   "version": "3.7.13"
  }
 },
 "nbformat": 4,
 "nbformat_minor": 5
}
